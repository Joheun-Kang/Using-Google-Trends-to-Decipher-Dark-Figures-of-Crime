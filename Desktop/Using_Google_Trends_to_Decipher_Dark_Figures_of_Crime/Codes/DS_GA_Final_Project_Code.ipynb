{
 "cells": [
  {
   "cell_type": "markdown",
   "metadata": {},
   "source": [
    "# DS-GA-Final-Project \n"
   ]
  },
  {
   "cell_type": "markdown",
   "metadata": {},
   "source": [
    "### Important changes \n",
    "\n",
    "```python\n",
    "\n",
    "from pandas.io.json._normalize import nested_to_record\n",
    "\n",
    "to\n",
    "\n",
    "from pandas.io.json.normalize import nested_to_record ```\n"
   ]
  },
  {
   "cell_type": "markdown",
   "metadata": {},
   "source": [
    "### Import packages"
   ]
  },
  {
   "cell_type": "code",
   "execution_count": 1,
   "metadata": {},
   "outputs": [],
   "source": [
    "import time\n",
    "import datetime\n",
    "import pandas as pd\n",
    "import csv\n",
    "from pytrends.request import TrendReq"
   ]
  },
  {
   "cell_type": "markdown",
   "metadata": {},
   "source": [
    "### Google Connector"
   ]
  },
  {
   "cell_type": "code",
   "execution_count": 50,
   "metadata": {},
   "outputs": [],
   "source": [
    "connector = TrendReq()"
   ]
  },
  {
   "cell_type": "code",
   "execution_count": 55,
   "metadata": {},
   "outputs": [
    {
     "name": "stdout",
     "output_type": "stream",
     "text": [
      "please input your keywords(seperate with \",\" and max 5 keywords): rape,hurt\n"
     ]
    }
   ],
   "source": [
    "kw_list = input('please input your keywords(seperate with \",\" and max 5 keywords): ').split(',')"
   ]
  },
  {
   "cell_type": "code",
   "execution_count": 57,
   "metadata": {},
   "outputs": [
    {
     "name": "stdout",
     "output_type": "stream",
     "text": [
      "['rape', 'hurt']\n"
     ]
    }
   ],
   "source": [
    "print(kw_list)"
   ]
  },
  {
   "cell_type": "code",
   "execution_count": 36,
   "metadata": {},
   "outputs": [
    {
     "name": "stdout",
     "output_type": "stream",
     "text": [
      "please input start time of inquary(20XX-XX-XX): 2019-04-01\n"
     ]
    }
   ],
   "source": [
    "time_start = input('please input start time of inquary(20XX-XX-XX): ')\n"
   ]
  },
  {
   "cell_type": "code",
   "execution_count": 37,
   "metadata": {},
   "outputs": [
    {
     "name": "stdout",
     "output_type": "stream",
     "text": [
      "please input end time of inquary(20XX-XX-XX): 2019-05-04\n"
     ]
    }
   ],
   "source": [
    "time_end = input('please input end time of inquary(20XX-XX-XX): ')\n"
   ]
  },
  {
   "cell_type": "code",
   "execution_count": 38,
   "metadata": {},
   "outputs": [
    {
     "name": "stdout",
     "output_type": "stream",
     "text": [
      "total days between your dates are 34 days\n"
     ]
    }
   ],
   "source": [
    "delta = datetime.datetime.strptime(time_end, '%Y-%m-%d') - datetime.datetime.strptime(time_start, '%Y-%m-%d')\n",
    "print(\"total days between your dates are\", delta.days+1, \"days\")"
   ]
  },
  {
   "cell_type": "code",
   "execution_count": 39,
   "metadata": {},
   "outputs": [
    {
     "name": "stdout",
     "output_type": "stream",
     "text": [
      "please input interval of days(1-7, or total interval days):3\n"
     ]
    }
   ],
   "source": [
    "time_interval = eval(input('please input interval of days(1-7, or total interval days):'))\n"
   ]
  },
  {
   "cell_type": "code",
   "execution_count": 40,
   "metadata": {},
   "outputs": [
    {
     "name": "stdout",
     "output_type": "stream",
     "text": [
      "please input your interested region(US, US-PA, US-NY, etc...): US\n"
     ]
    }
   ],
   "source": [
    "region = input('please input your interested region(US, US-PA, US-NY, etc...): ')\n"
   ]
  },
  {
   "cell_type": "code",
   "execution_count": 9,
   "metadata": {},
   "outputs": [
    {
     "name": "stdout",
     "output_type": "stream",
     "text": [
      "please input your interested region level data(\"CITY\" returns city level data, \"COUNTRY\" returns country level data, \"DMA\" returns Metro level data, \"REGION\" returns Region level data):COUNTRY\n"
     ]
    }
   ],
   "source": [
    "region_level = input('please input your interested region level data(\"CITY\" returns city level data, \"COUNTRY\" returns country level data, \"DMA\" returns Metro level data, \"REGION\" returns Region level data):')"
   ]
  },
  {
   "cell_type": "code",
   "execution_count": 10,
   "metadata": {},
   "outputs": [
    {
     "name": "stdout",
     "output_type": "stream",
     "text": [
      "please input your estimate timezone(PST\tPacific Standard Time (North America):480; MST\tMountain Standard Time (North America): 420; CST\tCentral Standard Time (North America): 360; EST\tEastern Standard Time (North America): 300; AST\tAtlantic Standard Time: 240; GMT\tGreenwich Mean Time: 0) : EST\n"
     ]
    }
   ],
   "source": [
    "Timezone = input('please input your estimate timezone(PST\tPacific Standard Time (North America):480; MST\tMountain Standard Time (North America): 420; CST\tCentral Standard Time (North America): 360; EST\tEastern Standard Time (North America): 300; AST\tAtlantic Standard Time: 240; GMT\tGreenwich Mean Time: 0) : ')"
   ]
  },
  {
   "cell_type": "code",
   "execution_count": 12,
   "metadata": {},
   "outputs": [],
   "source": [
    "pytrend = TrendReq(hl= 'en-US', tz = Timezone)"
   ]
  },
  {
   "cell_type": "markdown",
   "metadata": {},
   "source": [
    "### Check"
   ]
  },
  {
   "cell_type": "code",
   "execution_count": 13,
   "metadata": {},
   "outputs": [],
   "source": [
    "if region == \"world\":\n",
    "    region = ''\n",
    "    \n",
    "count_of_time = 0\n",
    "\n",
    "while time_end < time_start:\n",
    "    print(\"end time of inquary should be larger than start time, please enter again\")\n",
    "    time_start = input('please type start time of inquary(20XX-XX-XX): ')\n",
    "    time_end = input('please type end time of inquary(20XX-XX-XX): ')\n",
    " "
   ]
  },
  {
   "cell_type": "markdown",
   "metadata": {},
   "source": [
    "### Date Range"
   ]
  },
  {
   "cell_type": "code",
   "execution_count": 41,
   "metadata": {},
   "outputs": [],
   "source": [
    "def dateRange(beginDate, endDate):\n",
    "    dates = []\n",
    "    dt = datetime.datetime.strptime(beginDate, \"%Y-%m-%d\")\n",
    "    date = beginDate[:]\n",
    "    while date <= endDate:\n",
    "        dates.append(date)\n",
    "        if (date == dt.strftime (\"2004-01-01\")) or (date == dt.strftime (\"2008-01-01\")) or (date == dt.strftime (\"2012-01-01\")) or (date == dt.strftime (\"2016-01-01\")) or  (date == dt.strftime (\"2020-01-01\")) or  (date == dt.strftime (\"2024-01-01\")):\n",
    "            dt = dt + datetime.timedelta(time_interval+1)\n",
    "            date = dt.strftime(\"%Y-%m-%d\")\n",
    "        else:\n",
    "            dt = dt + datetime.timedelta(time_interval)\n",
    "            date = dt.strftime(\"%Y-%m-%d\")      \n",
    "    return dates"
   ]
  },
  {
   "cell_type": "code",
   "execution_count": 42,
   "metadata": {},
   "outputs": [
    {
     "data": {
      "text/plain": [
       "['2019-04-01',\n",
       " '2019-04-04',\n",
       " '2019-04-07',\n",
       " '2019-04-10',\n",
       " '2019-04-13',\n",
       " '2019-04-16',\n",
       " '2019-04-19',\n",
       " '2019-04-22',\n",
       " '2019-04-25',\n",
       " '2019-04-28',\n",
       " '2019-05-01',\n",
       " '2019-05-04']"
      ]
     },
     "execution_count": 42,
     "metadata": {},
     "output_type": "execute_result"
    }
   ],
   "source": [
    "dateRange('2019-04-01','2019-05-04')"
   ]
  },
  {
   "cell_type": "code",
   "execution_count": 43,
   "metadata": {},
   "outputs": [
    {
     "name": "stdout",
     "output_type": "stream",
     "text": [
      "2019-04-01\n",
      "2019-04-04\n",
      "2019-04-07\n",
      "2019-04-10\n",
      "2019-04-13\n",
      "2019-04-16\n",
      "2019-04-19\n",
      "2019-04-22\n",
      "2019-04-25\n",
      "2019-04-28\n",
      "2019-05-01\n",
      "2019-05-04\n"
     ]
    }
   ],
   "source": [
    "list_of_dates = []\n",
    "if __name__ == '__main__':\n",
    "    for date in dateRange(time_start, time_end):\n",
    "        print (date)\n",
    "        list_of_dates.append(date)"
   ]
  },
  {
   "cell_type": "code",
   "execution_count": 44,
   "metadata": {},
   "outputs": [
    {
     "data": {
      "text/plain": [
       "'2019-04-01 2019-05-04'"
      ]
     },
     "execution_count": 44,
     "metadata": {},
     "output_type": "execute_result"
    }
   ],
   "source": [
    "# start & end dates\n",
    "timeframeX = time_start + \" \" + time_end\n",
    "timeframeX"
   ]
  },
  {
   "cell_type": "markdown",
   "metadata": {},
   "source": [
    "### Write titles in the files"
   ]
  },
  {
   "cell_type": "code",
   "execution_count": 45,
   "metadata": {},
   "outputs": [],
   "source": [
    "if len(kw_list) == 1:#wirte titles in the files\n",
    "        filename = kw_list[0] +\" \"+ timeframeX + ' tz=' + Timezone +\" \"+ str(time_interval) + 'days' + \" \" + region + region_level + '.csv'\n",
    "        with open(filename, 'a+', newline='') as csvfile:\n",
    "            writer = csv.writer(csvfile, delimiter=',')\n",
    "            writer.writerow(['DateStart','DateEnd', 'Interval Days', 'GeoName', 'Keyword1_' + kw_list[0]])\n",
    "\n",
    "elif len(kw_list) == 2:\n",
    "        filename = kw_list[0] +\" \"+ kw_list[1] +\" \"+ timeframeX + ' tz=' + Timezone +\" \"+ str(time_interval) + 'days' + \" \" + region + region_level + '.csv'\n",
    "        with open(filename, 'a+', newline='') as csvfile:\n",
    "            writer = csv.writer(csvfile, delimiter=',')\n",
    "            writer.writerow(['DateStart','DateEnd', 'Interval Days', 'GeoName', 'Keyword1_' + kw_list[0], 'Keyword2_' + kw_list[1]])\n",
    "            \n",
    "elif len(kw_list) == 3:\n",
    "        filename = kw_list[0] +\" \"+ kw_list[1] +\" \"+ kw_list[2] +\" \"+ timeframeX + ' tz=' + Timezone +\" \"+ str(time_interval) + 'days' + \" \" + region + region_level + '.csv'\n",
    "        with open(filename, 'a+', newline='') as csvfile:\n",
    "            writer = csv.writer(csvfile, delimiter=',')\n",
    "            writer.writerow(['DateStart','DateEnd', 'Interval Days', 'GeoName', 'Keyword1_' + kw_list[0], 'Keyword2_' + kw_list[1], 'Keyword3_' + kw_list[2]])\n",
    "elif len(kw_list) == 4:\n",
    "        filename = kw_list[0] +\" \"+ kw_list[1] +\" \"+ kw_list[2] +\" \"+ kw_list[3] +\" \"+ timeframeX + ' tz=' + Timezone + \" \"+ str(time_interval) + 'days' + \" \" + region + region_level + '.csv'\n",
    "        with open(filename, 'a+', newline='') as csvfile:\n",
    "            writer = csv.writer(csvfile, delimiter=',')\n",
    "            writer.writerow(['DateStart','DateEnd', 'Interval Days', 'GeoName', 'Keyword1_' + kw_list[0], 'Keyword2_' + kw_list[1], 'Keyword3_' + kw_list[2], 'Keyword4_' + kw_list[3]])\n",
    "elif len(kw_list) == 5:\n",
    "        filename = kw_list[0] +\" \"+ kw_list[1] +\" \"+ kw_list[2] +\" \"+ kw_list[3] +\" \"+ kw_list[4] +\" \"+ timeframeX + ' tz=' + Timezone +\" \"+ str(time_interval) + 'days' + \" \" + region + region_level + '.csv'\n",
    "        with open(filename, 'a+', newline='') as csvfile:\n",
    "            writer = csv.writer(csvfile, delimiter=',')\n",
    "            writer.writerow(['DateStart','DateEnd', 'Interval Days', 'GeoName', 'Keyword1_' + kw_list[0], 'Keyword2_' + kw_list[1], 'Keyword3_' + kw_list[2], 'Keyword4_' + kw_list[3], 'Keyword5_' + kw_list[4]])"
   ]
  },
  {
   "cell_type": "code",
   "execution_count": 59,
   "metadata": {},
   "outputs": [
    {
     "ename": "ResponseError",
     "evalue": "The request failed: Google returned a response with code 400.",
     "output_type": "error",
     "traceback": [
      "\u001b[0;31m---------------------------------------------------------------------------\u001b[0m",
      "\u001b[0;31mResponseError\u001b[0m                             Traceback (most recent call last)",
      "\u001b[0;32m<ipython-input-59-1baed80fae64>\u001b[0m in \u001b[0;36m<module>\u001b[0;34m\u001b[0m\n\u001b[1;32m      5\u001b[0m     \u001b[0mend_of_interval_day\u001b[0m \u001b[0;34m=\u001b[0m \u001b[0mn_days\u001b[0m\u001b[0;34m.\u001b[0m\u001b[0mstrftime\u001b[0m\u001b[0;34m(\u001b[0m\u001b[0;34m'%Y-%m-%d'\u001b[0m\u001b[0;34m)\u001b[0m \u001b[0;31m#turn int() to str()\u001b[0m\u001b[0;34m\u001b[0m\u001b[0;34m\u001b[0m\u001b[0m\n\u001b[1;32m      6\u001b[0m     \u001b[0mtimeframeX\u001b[0m \u001b[0;34m=\u001b[0m \u001b[0mlist_of_dates\u001b[0m\u001b[0;34m[\u001b[0m\u001b[0mi\u001b[0m\u001b[0;34m]\u001b[0m \u001b[0;34m+\u001b[0m \u001b[0;34m\" \"\u001b[0m \u001b[0;34m+\u001b[0m \u001b[0mend_of_interval_day\u001b[0m \u001b[0;31m#Right timeframe\u001b[0m\u001b[0;34m\u001b[0m\u001b[0;34m\u001b[0m\u001b[0m\n\u001b[0;32m----> 7\u001b[0;31m     \u001b[0mpytrend\u001b[0m\u001b[0;34m.\u001b[0m\u001b[0mbuild_payload\u001b[0m\u001b[0;34m(\u001b[0m\u001b[0mkw_list\u001b[0m\u001b[0;34m,\u001b[0m \u001b[0mtimeframe\u001b[0m \u001b[0;34m=\u001b[0m \u001b[0mtimeframeX\u001b[0m\u001b[0;34m,\u001b[0m \u001b[0mgeo\u001b[0m \u001b[0;34m=\u001b[0m \u001b[0mregion\u001b[0m\u001b[0;34m)\u001b[0m \u001b[0;31m#main function of pytrend\u001b[0m\u001b[0;34m\u001b[0m\u001b[0;34m\u001b[0m\u001b[0m\n\u001b[0m\u001b[1;32m      8\u001b[0m     \u001b[0;31m#print(pytrend.interest_by_region(resolution = region_level))\u001b[0m\u001b[0;34m\u001b[0m\u001b[0;34m\u001b[0m\u001b[0;34m\u001b[0m\u001b[0m\n\u001b[1;32m      9\u001b[0m \u001b[0;34m\u001b[0m\u001b[0m\n",
      "\u001b[0;32m~/anaconda3/lib/python3.7/site-packages/pytrends/request.py\u001b[0m in \u001b[0;36mbuild_payload\u001b[0;34m(self, kw_list, cat, timeframe, geo, gprop)\u001b[0m\n\u001b[1;32m    165\u001b[0m         \u001b[0mself\u001b[0m\u001b[0;34m.\u001b[0m\u001b[0mtoken_payload\u001b[0m\u001b[0;34m[\u001b[0m\u001b[0;34m'req'\u001b[0m\u001b[0;34m]\u001b[0m \u001b[0;34m=\u001b[0m \u001b[0mjson\u001b[0m\u001b[0;34m.\u001b[0m\u001b[0mdumps\u001b[0m\u001b[0;34m(\u001b[0m\u001b[0mself\u001b[0m\u001b[0;34m.\u001b[0m\u001b[0mtoken_payload\u001b[0m\u001b[0;34m[\u001b[0m\u001b[0;34m'req'\u001b[0m\u001b[0;34m]\u001b[0m\u001b[0;34m)\u001b[0m\u001b[0;34m\u001b[0m\u001b[0;34m\u001b[0m\u001b[0m\n\u001b[1;32m    166\u001b[0m         \u001b[0;31m# get tokens\u001b[0m\u001b[0;34m\u001b[0m\u001b[0;34m\u001b[0m\u001b[0;34m\u001b[0m\u001b[0m\n\u001b[0;32m--> 167\u001b[0;31m         \u001b[0mself\u001b[0m\u001b[0;34m.\u001b[0m\u001b[0m_tokens\u001b[0m\u001b[0;34m(\u001b[0m\u001b[0;34m)\u001b[0m\u001b[0;34m\u001b[0m\u001b[0;34m\u001b[0m\u001b[0m\n\u001b[0m\u001b[1;32m    168\u001b[0m         \u001b[0;32mreturn\u001b[0m\u001b[0;34m\u001b[0m\u001b[0;34m\u001b[0m\u001b[0m\n\u001b[1;32m    169\u001b[0m \u001b[0;34m\u001b[0m\u001b[0m\n",
      "\u001b[0;32m~/anaconda3/lib/python3.7/site-packages/pytrends/request.py\u001b[0m in \u001b[0;36m_tokens\u001b[0;34m(self)\u001b[0m\n\u001b[1;32m    175\u001b[0m             \u001b[0mmethod\u001b[0m\u001b[0;34m=\u001b[0m\u001b[0mTrendReq\u001b[0m\u001b[0;34m.\u001b[0m\u001b[0mGET_METHOD\u001b[0m\u001b[0;34m,\u001b[0m\u001b[0;34m\u001b[0m\u001b[0;34m\u001b[0m\u001b[0m\n\u001b[1;32m    176\u001b[0m             \u001b[0mparams\u001b[0m\u001b[0;34m=\u001b[0m\u001b[0mself\u001b[0m\u001b[0;34m.\u001b[0m\u001b[0mtoken_payload\u001b[0m\u001b[0;34m,\u001b[0m\u001b[0;34m\u001b[0m\u001b[0;34m\u001b[0m\u001b[0m\n\u001b[0;32m--> 177\u001b[0;31m             \u001b[0mtrim_chars\u001b[0m\u001b[0;34m=\u001b[0m\u001b[0;36m4\u001b[0m\u001b[0;34m,\u001b[0m\u001b[0;34m\u001b[0m\u001b[0;34m\u001b[0m\u001b[0m\n\u001b[0m\u001b[1;32m    178\u001b[0m         )['widgets']\n\u001b[1;32m    179\u001b[0m         \u001b[0;31m# order of the json matters...\u001b[0m\u001b[0;34m\u001b[0m\u001b[0;34m\u001b[0m\u001b[0;34m\u001b[0m\u001b[0m\n",
      "\u001b[0;32m~/anaconda3/lib/python3.7/site-packages/pytrends/request.py\u001b[0m in \u001b[0;36m_get_data\u001b[0;34m(self, url, method, trim_chars, **kwargs)\u001b[0m\n\u001b[1;32m    144\u001b[0m                 \u001b[0;34m'The request failed: Google returned a '\u001b[0m\u001b[0;34m\u001b[0m\u001b[0;34m\u001b[0m\u001b[0m\n\u001b[1;32m    145\u001b[0m                 \u001b[0;34m'response with code {0}.'\u001b[0m\u001b[0;34m.\u001b[0m\u001b[0mformat\u001b[0m\u001b[0;34m(\u001b[0m\u001b[0mresponse\u001b[0m\u001b[0;34m.\u001b[0m\u001b[0mstatus_code\u001b[0m\u001b[0;34m)\u001b[0m\u001b[0;34m,\u001b[0m\u001b[0;34m\u001b[0m\u001b[0;34m\u001b[0m\u001b[0m\n\u001b[0;32m--> 146\u001b[0;31m                 response=response)\n\u001b[0m\u001b[1;32m    147\u001b[0m \u001b[0;34m\u001b[0m\u001b[0m\n\u001b[1;32m    148\u001b[0m     def build_payload(self, kw_list, cat=0, timeframe='today 5-y', geo='',\n",
      "\u001b[0;31mResponseError\u001b[0m: The request failed: Google returned a response with code 400."
     ]
    }
   ],
   "source": [
    "for i in range(0, len(list_of_dates)-1):\n",
    "    end_of_interval_day_plus_one = datetime.datetime.strptime(list_of_dates[i+1], '%Y-%m-%d') #actual enddate should minus one day more. Turn str() into int()\n",
    "    delta = datetime.timedelta(days=1) \n",
    "    n_days= end_of_interval_day_plus_one - delta  #minus 1 day of end day, to make it the right end date.\n",
    "    end_of_interval_day = n_days.strftime('%Y-%m-%d') #turn int() to str()\n",
    "    timeframeX = list_of_dates[i] + \" \" + end_of_interval_day #Right timeframe\n",
    "    pytrend.build_payload(kw_list, timeframe = timeframeX, geo = region) #main function of pytrend\n",
    "    #print(pytrend.interest_by_region(resolution = region_level)) \n",
    "   \n",
    "    #print(pytrend.interest_by_region(resolution = region_level).to_csv(path_or_buf= filename))\n",
    "   \n",
    "      #select_df = pd.DataFrame(pytrend.interest_by_region(resolution = region_level))     \n",
    "    \n",
    "#     # See what this data looks like\n",
    "#     '''X = dict(select_df)\n",
    "#     print(X)\n",
    "#     print(select_df.shape)\n",
    "#     print(select_df.columns)\n",
    "#     print(select_df.index)\n",
    "#     print(select_df.describe())'''\n",
    "    \n",
    "#     G = select_df.index #Geoname Column\n",
    "        \n",
    "#     if len(kw_list) == 1:\n",
    "#         Y1 = select_df[kw_list[0]]\n",
    "#         with open(filename, 'a+', newline='') as csvfile:\n",
    "#             for j in range (0, len(G.values)):\n",
    "#                 writer = csv.writer(csvfile, delimiter=',')\n",
    "#                 text = G.values[j]\n",
    "#                 writer.writerow([list_of_dates[i], end_of_interval_day, time_interval, text, Y1.values[j]])\n",
    "                \n",
    "#     elif len(kw_list) == 2:\n",
    "#         Y1 = select_df[kw_list[0]]\n",
    "#         Y2 = select_df[kw_list[1]]\n",
    "#         with open(filename, 'a+', newline='') as csvfile:\n",
    "#             for j in range (0, len(G.values)):\n",
    "#                 writer = csv.writer(csvfile, delimiter=',')\n",
    "#                 text = G.values[j]\n",
    "#                 #print(list_of_dates[i], end_of_interval_day, time_interval, G.values[j], Y1.values[j], Y2.values[j])\n",
    "#                 writer.writerow([list_of_dates[i], end_of_interval_day, time_interval, text, Y1.values[j], Y2.values[j]])\n",
    "                \n",
    "#     elif len(kw_list) == 3:\n",
    "#         Y1 = select_df[kw_list[0]]\n",
    "#         Y2 = select_df[kw_list[1]]\n",
    "#         Y3 = select_df[kw_list[2]]\n",
    "#         with open(filename, 'a+', newline='') as csvfile:\n",
    "#             for j in range (0, len(G.values)):\n",
    "#                 writer = csv.writer(csvfile, delimiter=',')\n",
    "#                 text = G.values[j]\n",
    "#                 writer.writerow([list_of_dates[i], end_of_interval_day, time_interval, text, Y1.values[j], Y2.values[j], Y3.values[j]]) \n",
    "                \n",
    "#     elif len(kw_list) == 4:\n",
    "#         Y1 = select_df[kw_list[0]]\n",
    "#         Y2 = select_df[kw_list[1]]\n",
    "#         Y3 = select_df[kw_list[2]]\n",
    "#         Y4 = select_df[kw_list[3]]\n",
    "#         with open(filename, 'a+', newline='') as csvfile:\n",
    "#             for j in range (0, len(G.values)):\n",
    "#                 writer = csv.writer(csvfile, delimiter=',')\n",
    "#                 text = G.values[j]\n",
    "#                 writer.writerow([list_of_dates[i], end_of_interval_day, time_interval, text, Y1.values[j], Y2.values[j], Y3.values[j], Y4.values[j]])\n",
    "\n",
    "#     elif len(kw_list) == 5:\n",
    "#         Y1 = select_df[kw_list[0]]\n",
    "#         Y2 = select_df[kw_list[1]]\n",
    "#         Y3 = select_df[kw_list[2]]\n",
    "#         Y4 = select_df[kw_list[3]]\n",
    "#         Y5 = select_df[kw_list[4]]\n",
    "#         with open(filename, 'a+', newline='') as csvfile:\n",
    "#             for j in range (0, len(G.values)):\n",
    "#                 writer = csv.writer(csvfile, delimiter=',')\n",
    "#                 text = G.values[j]\n",
    "#                 writer.writerow([list_of_dates[i], end_of_interval_day, time_interval, text, Y1.values[j], Y2.values[j], Y3.values[j], Y4.values[j], Y5.values[j]])\n",
    "#     time.sleep(00)   \n",
    "\n",
    "\n",
    "# if list_of_dates[-1] != time_end or (list_of_dates[-1] == time_end and time_interval == 1):\n",
    "#     timeframeX = list_of_dates[-1]+\" \"+time_end\n",
    "#     X1 = datetime.datetime.strptime(list_of_dates[-1], \"%Y-%m-%d\")\n",
    "#     X2 = datetime.datetime.strptime(time_end, \"%Y-%m-%d\")\n",
    "#     last_interval_of_days = (X2-X1).days + 1\n",
    "#     pytrend.build_payload(kw_list, timeframe = timeframeX, geo = region)\n",
    "#     print(pytrend.interest_by_region(resolution = region_level))\n",
    "#     select_df = pd.DataFrame(pytrend.interest_by_region(resolution = region_level))\n",
    "#     G = select_df.index\n",
    "    \n",
    "#     if len(kw_list) == 1:\n",
    "#         Y1 = select_df[kw_list[0]]\n",
    "#         with open(filename, 'a+', newline='') as csvfile:\n",
    "#             for j in range (0, len(G.values)):\n",
    "#                 writer = csv.writer(csvfile, delimiter=',')\n",
    "#                 text = G.values[j]\n",
    "#                 writer.writerow([list_of_dates[-1], time_end, last_interval_of_days, text, Y1.values[j]])\n",
    "                \n",
    "#     elif len(kw_list) == 2:\n",
    "#         Y1 = select_df[kw_list[0]]\n",
    "#         Y2 = select_df[kw_list[1]]\n",
    "#         with open(filename, 'a+', newline='') as csvfile:\n",
    "#             for j in range (0, len(G.values)):\n",
    "#                 writer = csv.writer(csvfile, delimiter=',')\n",
    "#                 text = G.values[j]\n",
    "#                 #print(list_of_dates[-1], time_end, last_interval_of_days, G.values[j], Y1.values[j], Y2.values[j])\n",
    "#                 writer.writerow([list_of_dates[-1], time_end, last_interval_of_days, text, Y1.values[j], Y2.values[j]])\n",
    "                \n",
    "#     elif len(kw_list) == 3:\n",
    "#         Y1 = select_df[kw_list[0]]\n",
    "#         Y2 = select_df[kw_list[1]]\n",
    "#         Y3 = select_df[kw_list[2]]\n",
    "#         with open(filename, 'a+', newline='') as csvfile:\n",
    "#             for j in range (0, len(G.values)):\n",
    "#                 writer = csv.writer(csvfile, delimiter=',')\n",
    "#                 text = G.values[j]\n",
    "#                 writer.writerow([list_of_dates[-1], time_end, last_interval_of_days, text, Y1.values[j], Y2.values[j], Y3.values[j]]) \n",
    "                \n",
    "#     elif len(kw_list) == 4:\n",
    "#         Y1 = select_df[kw_list[0]]\n",
    "#         Y2 = select_df[kw_list[1]]\n",
    "#         Y3 = select_df[kw_list[2]]\n",
    "#         Y4 = select_df[kw_list[3]]\n",
    "#         with open(filename, 'a+', newline='') as csvfile:\n",
    "#             for j in range (0, len(G.values)):\n",
    "#                 writer = csv.writer(csvfile, delimiter=',')\n",
    "#                 text = G.values[j]\n",
    "#                 writer.writerow([list_of_dates[-1], time_end, last_interval_of_days, text, Y1.values[j], Y2.values[j], Y3.values[j], Y4.values[j]])\n",
    "\n",
    "#     elif len(kw_list) == 5:\n",
    "#         Y1 = select_df[kw_list[0]]\n",
    "#         Y2 = select_df[kw_list[1]]\n",
    "#         Y3 = select_df[kw_list[2]]\n",
    "#         Y4 = select_df[kw_list[3]]\n",
    "#         Y5 = select_df[kw_list[4]]\n",
    "#         with open(filename, 'a+', newline='') as csvfile:\n",
    "#             for j in range (0, len(G.values)):\n",
    "#                 writer = csv.writer(csvfile, delimiter=',')\n",
    "#                 text = G.values[j]\n",
    "#                 writer.writerow([list_of_dates[-1], time_end, last_interval_of_days, text, Y1.values[j], Y2.values[j], Y3.values[j], Y4.values[j], Y5.values[j]])\n",
    "\n",
    "# for r in range(0, len(kw_list)):\n",
    "#     print(pytrend.suggestions(kw_list[r]))\n",
    "#     print(pytrend.related_topics())\n",
    "#     print(pytrend.related_queries())\n"
   ]
  },
  {
   "cell_type": "code",
   "execution_count": null,
   "metadata": {},
   "outputs": [],
   "source": []
  },
  {
   "cell_type": "code",
   "execution_count": null,
   "metadata": {},
   "outputs": [],
   "source": []
  },
  {
   "cell_type": "code",
   "execution_count": 52,
   "metadata": {
    "scrolled": true
   },
   "outputs": [
    {
     "ename": "ResponseError",
     "evalue": "The request failed: Google returned a response with code 400.",
     "output_type": "error",
     "traceback": [
      "\u001b[0;31m---------------------------------------------------------------------------\u001b[0m",
      "\u001b[0;31mResponseError\u001b[0m                             Traceback (most recent call last)",
      "\u001b[0;32m<ipython-input-52-80c6e908777a>\u001b[0m in \u001b[0;36m<module>\u001b[0;34m\u001b[0m\n\u001b[0;32m----> 1\u001b[0;31m \u001b[0mpytrend\u001b[0m\u001b[0;34m.\u001b[0m\u001b[0mbuild_payload\u001b[0m\u001b[0;34m(\u001b[0m\u001b[0mkw_list\u001b[0m \u001b[0;34m=\u001b[0m \u001b[0;34m[\u001b[0m\u001b[0;34m'pizza'\u001b[0m\u001b[0;34m,\u001b[0m \u001b[0;34m'bagel'\u001b[0m\u001b[0;34m]\u001b[0m\u001b[0;34m)\u001b[0m\u001b[0;34m\u001b[0m\u001b[0;34m\u001b[0m\u001b[0m\n\u001b[0m",
      "\u001b[0;32m~/anaconda3/lib/python3.7/site-packages/pytrends/request.py\u001b[0m in \u001b[0;36mbuild_payload\u001b[0;34m(self, kw_list, cat, timeframe, geo, gprop)\u001b[0m\n\u001b[1;32m    165\u001b[0m         \u001b[0mself\u001b[0m\u001b[0;34m.\u001b[0m\u001b[0mtoken_payload\u001b[0m\u001b[0;34m[\u001b[0m\u001b[0;34m'req'\u001b[0m\u001b[0;34m]\u001b[0m \u001b[0;34m=\u001b[0m \u001b[0mjson\u001b[0m\u001b[0;34m.\u001b[0m\u001b[0mdumps\u001b[0m\u001b[0;34m(\u001b[0m\u001b[0mself\u001b[0m\u001b[0;34m.\u001b[0m\u001b[0mtoken_payload\u001b[0m\u001b[0;34m[\u001b[0m\u001b[0;34m'req'\u001b[0m\u001b[0;34m]\u001b[0m\u001b[0;34m)\u001b[0m\u001b[0;34m\u001b[0m\u001b[0;34m\u001b[0m\u001b[0m\n\u001b[1;32m    166\u001b[0m         \u001b[0;31m# get tokens\u001b[0m\u001b[0;34m\u001b[0m\u001b[0;34m\u001b[0m\u001b[0;34m\u001b[0m\u001b[0m\n\u001b[0;32m--> 167\u001b[0;31m         \u001b[0mself\u001b[0m\u001b[0;34m.\u001b[0m\u001b[0m_tokens\u001b[0m\u001b[0;34m(\u001b[0m\u001b[0;34m)\u001b[0m\u001b[0;34m\u001b[0m\u001b[0;34m\u001b[0m\u001b[0m\n\u001b[0m\u001b[1;32m    168\u001b[0m         \u001b[0;32mreturn\u001b[0m\u001b[0;34m\u001b[0m\u001b[0;34m\u001b[0m\u001b[0m\n\u001b[1;32m    169\u001b[0m \u001b[0;34m\u001b[0m\u001b[0m\n",
      "\u001b[0;32m~/anaconda3/lib/python3.7/site-packages/pytrends/request.py\u001b[0m in \u001b[0;36m_tokens\u001b[0;34m(self)\u001b[0m\n\u001b[1;32m    175\u001b[0m             \u001b[0mmethod\u001b[0m\u001b[0;34m=\u001b[0m\u001b[0mTrendReq\u001b[0m\u001b[0;34m.\u001b[0m\u001b[0mGET_METHOD\u001b[0m\u001b[0;34m,\u001b[0m\u001b[0;34m\u001b[0m\u001b[0;34m\u001b[0m\u001b[0m\n\u001b[1;32m    176\u001b[0m             \u001b[0mparams\u001b[0m\u001b[0;34m=\u001b[0m\u001b[0mself\u001b[0m\u001b[0;34m.\u001b[0m\u001b[0mtoken_payload\u001b[0m\u001b[0;34m,\u001b[0m\u001b[0;34m\u001b[0m\u001b[0;34m\u001b[0m\u001b[0m\n\u001b[0;32m--> 177\u001b[0;31m             \u001b[0mtrim_chars\u001b[0m\u001b[0;34m=\u001b[0m\u001b[0;36m4\u001b[0m\u001b[0;34m,\u001b[0m\u001b[0;34m\u001b[0m\u001b[0;34m\u001b[0m\u001b[0m\n\u001b[0m\u001b[1;32m    178\u001b[0m         )['widgets']\n\u001b[1;32m    179\u001b[0m         \u001b[0;31m# order of the json matters...\u001b[0m\u001b[0;34m\u001b[0m\u001b[0;34m\u001b[0m\u001b[0;34m\u001b[0m\u001b[0m\n",
      "\u001b[0;32m~/anaconda3/lib/python3.7/site-packages/pytrends/request.py\u001b[0m in \u001b[0;36m_get_data\u001b[0;34m(self, url, method, trim_chars, **kwargs)\u001b[0m\n\u001b[1;32m    144\u001b[0m                 \u001b[0;34m'The request failed: Google returned a '\u001b[0m\u001b[0;34m\u001b[0m\u001b[0;34m\u001b[0m\u001b[0m\n\u001b[1;32m    145\u001b[0m                 \u001b[0;34m'response with code {0}.'\u001b[0m\u001b[0;34m.\u001b[0m\u001b[0mformat\u001b[0m\u001b[0;34m(\u001b[0m\u001b[0mresponse\u001b[0m\u001b[0;34m.\u001b[0m\u001b[0mstatus_code\u001b[0m\u001b[0;34m)\u001b[0m\u001b[0;34m,\u001b[0m\u001b[0;34m\u001b[0m\u001b[0;34m\u001b[0m\u001b[0m\n\u001b[0;32m--> 146\u001b[0;31m                 response=response)\n\u001b[0m\u001b[1;32m    147\u001b[0m \u001b[0;34m\u001b[0m\u001b[0m\n\u001b[1;32m    148\u001b[0m     def build_payload(self, kw_list, cat=0, timeframe='today 5-y', geo='',\n",
      "\u001b[0;31mResponseError\u001b[0m: The request failed: Google returned a response with code 400."
     ]
    }
   ],
   "source": [
    "pytrend.build_payload(kw_list = ['pizza', 'bagel'])"
   ]
  },
  {
   "cell_type": "code",
   "execution_count": 56,
   "metadata": {},
   "outputs": [
    {
     "name": "stdout",
     "output_type": "stream",
     "text": [
      "['rape', 'hurt']\n"
     ]
    }
   ],
   "source": [
    "print(kw_list)"
   ]
  },
  {
   "cell_type": "code",
   "execution_count": null,
   "metadata": {},
   "outputs": [],
   "source": []
  },
  {
   "cell_type": "code",
   "execution_count": null,
   "metadata": {},
   "outputs": [],
   "source": []
  },
  {
   "cell_type": "code",
   "execution_count": null,
   "metadata": {},
   "outputs": [],
   "source": []
  },
  {
   "cell_type": "code",
   "execution_count": null,
   "metadata": {},
   "outputs": [],
   "source": []
  },
  {
   "cell_type": "code",
   "execution_count": null,
   "metadata": {},
   "outputs": [],
   "source": []
  },
  {
   "cell_type": "code",
   "execution_count": null,
   "metadata": {},
   "outputs": [],
   "source": []
  },
  {
   "cell_type": "markdown",
   "metadata": {},
   "source": [
    "## Combine Excel Files"
   ]
  },
  {
   "cell_type": "code",
   "execution_count": null,
   "metadata": {},
   "outputs": [],
   "source": []
  }
 ],
 "metadata": {
  "kernelspec": {
   "display_name": "Python 3",
   "language": "python",
   "name": "python3"
  },
  "language_info": {
   "codemirror_mode": {
    "name": "ipython",
    "version": 3
   },
   "file_extension": ".py",
   "mimetype": "text/x-python",
   "name": "python",
   "nbconvert_exporter": "python",
   "pygments_lexer": "ipython3",
   "version": "3.7.3"
  }
 },
 "nbformat": 4,
 "nbformat_minor": 2
}
